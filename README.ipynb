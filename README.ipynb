{
 "cells": [
  {
   "cell_type": "markdown",
   "id": "f2f8efcd-565b-4316-879f-38433449d8aa",
   "metadata": {},
   "source": [
    "# BRACE2 Structural System Identification Library (`ssid`)\n",
    "\n",
    "### Transfer Function Estimates\n",
    "\n",
    "- **RSTF** -- Response Spectrum Transfer Function Estimate ([`ssid.rstf`](TransferFunction.ipynb))\n",
    "\n",
    "### State-Space Models\n",
    "\n",
    "- **OKID-ERA-DC** -- Observer/Kalman Identification with Eigen Realization Algorithm and Direct Correlations ([`ssid.okid`](OKID_ERA_DC.ipynb))\n",
    "- **SRIM** -- System Realization with Information Matrix ([`ssid.srim`](SRIM.ipynb))"
   ]
  }
 ],
 "metadata": {
  "kernelspec": {
   "display_name": "Python 3 (ipykernel)",
   "language": "python",
   "name": "python3"
  },
  "language_info": {
   "codemirror_mode": {
    "name": "ipython",
    "version": 3
   },
   "file_extension": ".py",
   "mimetype": "text/x-python",
   "name": "python",
   "nbconvert_exporter": "python",
   "pygments_lexer": "ipython3",
   "version": "3.9.10"
  }
 },
 "nbformat": 4,
 "nbformat_minor": 5
}
