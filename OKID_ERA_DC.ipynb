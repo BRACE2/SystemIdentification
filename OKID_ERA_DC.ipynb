{
 "cells": [
  {
   "cell_type": "code",
   "execution_count": 1,
   "id": "a5714e1d-5706-4f80-b65c-f9d9faaee2e6",
   "metadata": {},
   "outputs": [],
   "source": [
    "from pathlib import Path\n",
    "import quakeio\n",
    "import ssid as si\n",
    "import OKID\n",
    "import numpy as np\n",
    "\n",
    "import pandas as pd"
   ]
  },
  {
   "cell_type": "code",
   "execution_count": 2,
   "id": "3f886615-f4a7-4415-aa43-212e1ec5bcca",
   "metadata": {},
   "outputs": [],
   "source": [
    "# channels = [\"22\", \"24\"]\n",
    "# channels = [\"23\", \"25\"]\n",
    "channels = dict( # PAINTER RIO DELL\n",
    "    inputs  = [17, 3, 20],\n",
    "    outputs = [ 9, 7 , 4]\n",
    ")\n",
    "# channels = dict(# Case 2\n",
    "#     inputs  = [3,6,17],\n",
    "#     outputs = [12, 14, 19]\n",
    "# )\n",
    "# channels = dict( # Case 5\n",
    "#     inputs  = [1],\n",
    "#     outputs = [16]\n",
    "# )\n",
    "# channels = dict(\n",
    "#     inputs  = \"2 7 25\".split(),\n",
    "#     outputs = \"18 13 15 23 20\".split()\n",
    "# )"
   ]
  },
  {
   "cell_type": "code",
   "execution_count": 3,
   "id": "2374b59b-7239-4190-b64c-26b2615d7fbb",
   "metadata": {
    "tags": []
   },
   "outputs": [
    {
     "name": "stdout",
     "output_type": "stream",
     "text": [
      "Error extracting modes: too many indices for array: array is 1-dimensional, but 2 were indexed\n"
     ]
    }
   ],
   "source": [
    "for file in Path(\"painter\").glob(\"RioDell_P*.zip\"):\n",
    "    event = quakeio.read(file)\n",
    "    try:\n",
    "        inputs = [\n",
    "            event.match(\"r\", file_name=f\".*{chan}.*\").accel\n",
    "            for chan in channels[\"inputs\"]\n",
    "        ]\n",
    "        outpts = [\n",
    "            event.match(\"r\", file_name=f\".*{chan}.*\").accel\n",
    "            for chan in channels[\"outputs\"]\n",
    "        ]\n",
    "    except:\n",
    "        print(f\"failed {file.name}\")\n",
    "        \n",
    "    else:\n",
    "        dt = inputs[0][\"time_step\"]\n",
    "        V = OKID.okid(inputs, outpts, dt=dt, kmax=500, mro=10, orm=4, verbose=True)\n",
    "        print(si.IdentifiedSystem(dt, **V))\n",
    "        # break\n",
    "\n",
    "        # A,B,C,D = OKID.okid(inputs, outpts, dt=dt, kmax=500, mro=10, orm=4, verbose=True)\n",
    "        # freqdmpSRIM, modeshapeSRIM, *_ = si.ComposeModes(dt, A, B, C, D)\n",
    "        # Add validation\n",
    "        # print(si.IdentifiedSystem(dt, A, B, C, D))\n",
    "        # print(file, np.real(1/freqdmpSRIM[:,0]))"
   ]
  },
  {
   "cell_type": "code",
   "execution_count": 5,
   "id": "6eb66ef8-c153-4768-805a-9a4195bba941",
   "metadata": {},
   "outputs": [
    {
     "data": {
      "text/plain": [
       "array([[-0.1592585 , -0.03648066,  0.30002533],\n",
       "       [-0.3610846 , -0.2489186 , -0.27651246],\n",
       "       [-0.02462627, -0.07882047, -0.06064352],\n",
       "       [-0.09863061,  0.00874634,  0.23643018]])"
      ]
     },
     "execution_count": 5,
     "metadata": {},
     "output_type": "execute_result"
    }
   ],
   "source": [
    "V[\"B\"]"
   ]
  },
  {
   "cell_type": "code",
   "execution_count": 13,
   "id": "e39a6f6b-65ac-4579-9986-ef602b43a125",
   "metadata": {},
   "outputs": [
    {
     "data": {
      "text/html": [
       "<div>\n",
       "<style scoped>\n",
       "    .dataframe tbody tr th:only-of-type {\n",
       "        vertical-align: middle;\n",
       "    }\n",
       "\n",
       "    .dataframe tbody tr th {\n",
       "        vertical-align: top;\n",
       "    }\n",
       "\n",
       "    .dataframe thead th {\n",
       "        text-align: right;\n",
       "    }\n",
       "</style>\n",
       "<table border=\"1\" class=\"dataframe\">\n",
       "  <thead>\n",
       "    <tr style=\"text-align: right;\">\n",
       "      <th></th>\n",
       "      <th>0</th>\n",
       "      <th>1</th>\n",
       "      <th>2</th>\n",
       "      <th>3</th>\n",
       "      <th>4</th>\n",
       "      <th>5</th>\n",
       "      <th>6</th>\n",
       "      <th>7</th>\n",
       "      <th>8</th>\n",
       "      <th>9</th>\n",
       "      <th>...</th>\n",
       "      <th>53</th>\n",
       "      <th>54</th>\n",
       "      <th>55</th>\n",
       "      <th>56</th>\n",
       "      <th>57</th>\n",
       "      <th>58</th>\n",
       "      <th>59</th>\n",
       "      <th>60</th>\n",
       "      <th>61</th>\n",
       "      <th>62</th>\n",
       "    </tr>\n",
       "  </thead>\n",
       "  <tbody>\n",
       "    <tr>\n",
       "      <th>0</th>\n",
       "      <td>0.346367</td>\n",
       "      <td>0.055495</td>\n",
       "      <td>-0.002365</td>\n",
       "      <td>-0.533396</td>\n",
       "      <td>-0.136568</td>\n",
       "      <td>-0.027011</td>\n",
       "      <td>1.448927</td>\n",
       "      <td>-0.105769</td>\n",
       "      <td>-0.008909</td>\n",
       "      <td>0.550272</td>\n",
       "      <td>...</td>\n",
       "      <td>-0.019947</td>\n",
       "      <td>0.311529</td>\n",
       "      <td>0.017744</td>\n",
       "      <td>-0.051129</td>\n",
       "      <td>0.067649</td>\n",
       "      <td>0.069027</td>\n",
       "      <td>-0.000885</td>\n",
       "      <td>-0.233905</td>\n",
       "      <td>-0.083483</td>\n",
       "      <td>0.057748</td>\n",
       "    </tr>\n",
       "    <tr>\n",
       "      <th>1</th>\n",
       "      <td>-0.002701</td>\n",
       "      <td>0.115101</td>\n",
       "      <td>-0.018536</td>\n",
       "      <td>0.011118</td>\n",
       "      <td>-0.215169</td>\n",
       "      <td>0.014922</td>\n",
       "      <td>0.066532</td>\n",
       "      <td>2.356402</td>\n",
       "      <td>0.043070</td>\n",
       "      <td>-0.010617</td>\n",
       "      <td>...</td>\n",
       "      <td>-0.020823</td>\n",
       "      <td>0.016470</td>\n",
       "      <td>0.621127</td>\n",
       "      <td>0.055977</td>\n",
       "      <td>-0.013417</td>\n",
       "      <td>0.040023</td>\n",
       "      <td>0.011951</td>\n",
       "      <td>-0.000698</td>\n",
       "      <td>-0.226978</td>\n",
       "      <td>-0.018137</td>\n",
       "    </tr>\n",
       "    <tr>\n",
       "      <th>2</th>\n",
       "      <td>-0.078413</td>\n",
       "      <td>0.107353</td>\n",
       "      <td>0.188322</td>\n",
       "      <td>0.181211</td>\n",
       "      <td>-0.077875</td>\n",
       "      <td>-0.266185</td>\n",
       "      <td>-0.018942</td>\n",
       "      <td>0.231403</td>\n",
       "      <td>1.932236</td>\n",
       "      <td>-0.256097</td>\n",
       "      <td>...</td>\n",
       "      <td>-0.027227</td>\n",
       "      <td>0.055350</td>\n",
       "      <td>-0.231221</td>\n",
       "      <td>0.477762</td>\n",
       "      <td>0.087240</td>\n",
       "      <td>0.158267</td>\n",
       "      <td>0.016408</td>\n",
       "      <td>-0.038107</td>\n",
       "      <td>0.065641</td>\n",
       "      <td>-0.236329</td>\n",
       "    </tr>\n",
       "  </tbody>\n",
       "</table>\n",
       "<p>3 rows × 63 columns</p>\n",
       "</div>"
      ],
      "text/plain": [
       "         0         1         2         3         4         5         6   \\\n",
       "0  0.346367  0.055495 -0.002365 -0.533396 -0.136568 -0.027011  1.448927   \n",
       "1 -0.002701  0.115101 -0.018536  0.011118 -0.215169  0.014922  0.066532   \n",
       "2 -0.078413  0.107353  0.188322  0.181211 -0.077875 -0.266185 -0.018942   \n",
       "\n",
       "         7         8         9   ...        53        54        55        56  \\\n",
       "0 -0.105769 -0.008909  0.550272  ... -0.019947  0.311529  0.017744 -0.051129   \n",
       "1  2.356402  0.043070 -0.010617  ... -0.020823  0.016470  0.621127  0.055977   \n",
       "2  0.231403  1.932236 -0.256097  ... -0.027227  0.055350 -0.231221  0.477762   \n",
       "\n",
       "         57        58        59        60        61        62  \n",
       "0  0.067649  0.069027 -0.000885 -0.233905 -0.083483  0.057748  \n",
       "1 -0.013417  0.040023  0.011951 -0.000698 -0.226978 -0.018137  \n",
       "2  0.087240  0.158267  0.016408 -0.038107  0.065641 -0.236329  \n",
       "\n",
       "[3 rows x 63 columns]"
      ]
     },
     "execution_count": 13,
     "metadata": {},
     "output_type": "execute_result"
    }
   ],
   "source": [
    "pd.DataFrame(V[\"M\"])"
   ]
  },
  {
   "cell_type": "code",
   "execution_count": 7,
   "id": "9ca6097b-1845-423f-b6ad-82d19464f29b",
   "metadata": {},
   "outputs": [
    {
     "data": {
      "text/plain": [
       "[array([ 1.69532602e-38, -5.96983665e-38, -9.26902802e-38]),\n",
       " array([ 4.49510895e-38,  4.61057772e-38, -6.49897388e-38]),\n",
       " array([ 6.90410705e-38,  1.46143917e-37, -3.31939343e-38]),\n",
       " array([8.75601736e-38, 2.33271451e-37, 2.91145529e-40]),\n",
       " array([9.92884772e-38, 3.01445722e-37, 3.29915088e-38]),\n",
       " array([1.03527793e-37, 3.46140385e-37, 6.25466515e-38]),\n",
       " array([1.00140549e-37, 3.64640054e-37, 8.68786564e-38]),\n",
       " array([8.95470136e-38, 3.56196499e-37, 1.04336882e-37]),\n",
       " array([7.26820086e-38, 3.22038218e-37, 1.13808278e-37]),\n",
       " array([5.09151817e-38, 2.65236003e-37, 1.14786080e-37]),\n",
       " array([2.59414741e-38, 1.90437590e-37, 1.07392842e-37]),\n",
       " array([-3.49575328e-40,  1.03493654e-37,  9.23571781e-38]),\n",
       " array([-2.60156997e-38,  1.10048387e-38,  7.09469438e-38])]"
      ]
     },
     "execution_count": 7,
     "metadata": {},
     "output_type": "execute_result"
    }
   ],
   "source": [
    "[y[0] for y in V[\"Y\"][-13:]]"
   ]
  },
  {
   "cell_type": "code",
   "execution_count": 14,
   "id": "dcf8e841-6dcf-4de9-b003-8adf92a91f23",
   "metadata": {},
   "outputs": [],
   "source": [
    "def hankel(Y, d, shift):\n",
    "    from numpy.lib.stride_tricks import as_strided\n",
    "    if shift:\n",
    "        Y = np.roll(Y,1)\n",
    "    return as_strided()\n",
    "    return np.lib.stride_tricks.sliding_window_view(\n",
    "            Y, (Y.shape[0], Y.shape[1]+1-d)\n",
    "    ).reshape(d*Y.shape[0], -1)"
   ]
  },
  {
   "cell_type": "code",
   "execution_count": null,
   "id": "9d567f5a-204c-4d52-ad66-bbd4c218eda9",
   "metadata": {},
   "outputs": [],
   "source": [
    "hankel(np.array(V[\"Y\"]), 10, 0)"
   ]
  },
  {
   "cell_type": "code",
   "execution_count": null,
   "id": "43741287-e34b-497e-b3df-8f6823e855ac",
   "metadata": {},
   "outputs": [],
   "source": [
    "np.array(V[\"dati\"]).shape"
   ]
  },
  {
   "cell_type": "code",
   "execution_count": null,
   "id": "c1c54b89-9fcd-419b-87e4-595ed4965f45",
   "metadata": {},
   "outputs": [],
   "source": [
    "print(si.IdentifiedSystem(dt, -V[\"A\"]))"
   ]
  },
  {
   "cell_type": "code",
   "execution_count": null,
   "id": "c430a95c-d868-4524-8e86-77990da92ea9",
   "metadata": {},
   "outputs": [],
   "source": []
  }
 ],
 "metadata": {
  "kernelspec": {
   "display_name": "intel",
   "language": "python",
   "name": "intel"
  },
  "language_info": {
   "codemirror_mode": {
    "name": "ipython",
    "version": 3
   },
   "file_extension": ".py",
   "mimetype": "text/x-python",
   "name": "python",
   "nbconvert_exporter": "python",
   "pygments_lexer": "ipython3",
   "version": "3.7.11"
  }
 },
 "nbformat": 4,
 "nbformat_minor": 5
}
