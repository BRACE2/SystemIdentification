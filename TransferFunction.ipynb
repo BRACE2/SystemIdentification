{
 "cells": [
  {
   "cell_type": "code",
   "execution_count": 1,
   "id": "47efdd32-2513-412c-8d52-6bdcfcdb391e",
   "metadata": {},
   "outputs": [],
   "source": [
    "import quakeio\n",
    "import quakeio.processing as proc\n",
    "from pathlib import Path\n",
    "from datetime import datetime\n",
    "DIR = Path(\"/mnt/c/Users/claud/Downloads/brace2/\")"
   ]
  },
  {
   "cell_type": "code",
   "execution_count": 7,
   "id": "9fe74bc5-b5f2-4032-afe7-b0f635586ca5",
   "metadata": {},
   "outputs": [],
   "source": [
    "# config = dict(\n",
    "#     ch = (\"2\", \"7\"),\n",
    "#     dataset = \"meloland\",\n",
    "#     direction=\"Transverse\"\n",
    "# )\n",
    "config = dict(\n",
    "    ch = (\"1\", \"11\"),\n",
    "    # ch = (\"3\", \"7\"),\n",
    "    dataset = \"painter\",\n",
    "    direction=\"Longitudinal\"\n",
    ")\n",
    "# config = dict(\n",
    "#     ch = (\"23\", \"25\"),\n",
    "#     # ch = (\"3\", \"7\"),\n",
    "#     dataset = \"hayward\",\n",
    "#     direction=\"Transverse\"\n",
    "# )"
   ]
  },
  {
   "cell_type": "code",
   "execution_count": 8,
   "id": "66e69e4a-7aad-45ed-b315-4f367ca028c4",
   "metadata": {},
   "outputs": [],
   "source": [
    "def make_hover_data(data, ln=None):\n",
    "    import numpy as np\n",
    "    if ln is None:\n",
    "        items = np.array([d.values for d in data])\n",
    "        keys = data[0].keys()\n",
    "    else:\n",
    "        items = np.array([list(data.values())]*ln)\n",
    "        keys = data.keys()\n",
    "    return {\n",
    "        \"hovertemplate\": \"<br>\".join(f\"{k}: %{{customdata[{v}]}}\" for v,k in enumerate(keys)),\n",
    "        \"customdata\": list(items),\n",
    "    }"
   ]
  },
  {
   "cell_type": "code",
   "execution_count": 11,
   "id": "1553a058-6005-4228-9a87-03298a998c19",
   "metadata": {
    "tags": []
   },
   "outputs": [
    {
     "name": "stdout",
     "output_type": "stream",
     "text": [
      "painter/CapeMendocino_21Nov1986_CE89324P.zip\n",
      "\tcm/sec/sec\n"
     ]
    },
    {
     "name": "stderr",
     "output_type": "stream",
     "text": [
      "/tmp/ipykernel_32066/3940025581.py:7: VisibleDeprecationWarning: Creating an ndarray from ragged nested sequences (which is a list-or-tuple of lists-or-tuples-or ndarrays with different lengths or shapes) is deprecated. If you meant to do this, you must specify 'dtype=object' when creating the ndarray.\n",
      "  items = np.array([list(data.values())]*ln)\n"
     ]
    },
    {
     "name": "stdout",
     "output_type": "stream",
     "text": [
      "painter/petrolia_05dec2016_72733405_ce89324p.zip\n",
      "\tcm/sec/sec\n",
      "painter/RioDell82_CE89324P.zip\n",
      "\tcm/sec/sec\n",
      "painter/CapeMendocino_31Jul1987_CE89324P.zip\n",
      "\tcm/sec/sec\n",
      "painter/nc73201181_ce89324p.zip\n",
      "\tcm/sec/sec\n",
      "painter/RioDell_Petrolia_Processed_Data.zip\n",
      "\tcm/sec/sec\n",
      "painter/riodell_14sep2012_71842075_ce89324p.zip\n",
      "\tcm/sec/sec\n",
      "painter/ferndale_28jan2015_72387946_ce89324p.zip\n",
      "\tcm/sec/sec\n",
      "painter/PetroliaAftershock1_26Apr1992_CE89324P.zip\n",
      "\tcm/sec/sec\n",
      "painter/Eureka_24Aug1983_CE89324P.zip\n",
      "\tcm/sec/sec\n",
      "painter/Trinidad-Offshore_08Nov1980_CE89324p.zip\n",
      "\tcm/sec/sec\n",
      "painter/riodell_19oct2014_72330211_ce89324p.zip\n",
      "\tcm/sec/sec\n",
      "painter/ferndaleoffshore_08dec2016_us20007z6r_ce89324p.zip\n",
      "\tcm/sec/sec\n",
      "painter/CapeMendocinoAftershock_21Nov1986_CE89324P.zip\n",
      "\tcm/sec/sec\n",
      "painter/bayview_11oct2013_72086051_ce89324p.zip\n",
      "\tcm/sec/sec\n"
     ]
    }
   ],
   "source": [
    "res = []\n",
    "data = []\n",
    "periods = []\n",
    "for i in Path(config[\"dataset\"]).glob(\"*.zip\"):\n",
    "    print(i)\n",
    "    try:\n",
    "        collection = quakeio.read(i, exclusions=[\"filter*\"])\n",
    "    except Exception as e:\n",
    "        print(f\"\\tError parsing: {e}\")\n",
    "        continue\n",
    "\n",
    "    c3 = collection.at(channel=config[\"ch\"][0])\n",
    "    c7 = collection.at(channel=config[\"ch\"][1])\n",
    "    try:\n",
    "        if c3 is None:\n",
    "            c3 = collection.at(station_channel=config[\"ch\"][0])\n",
    "        if c3 is None:\n",
    "            inp = collection.motions['footing_of_center_column']\n",
    "            try:\n",
    "                c3 = inp.tran\n",
    "            except:\n",
    "                c3 = inp.components['270']\n",
    "\n",
    "        if c7 is None:\n",
    "            c7 = collection.at(station_channel=config[\"ch\"][1])\n",
    "        if c7 is None:\n",
    "            out = collection.motions['deck_middle_of_bridge']\n",
    "            try:\n",
    "                c7 = out.tran\n",
    "            except:\n",
    "                c7 = out.components['270']\n",
    "        print(f\"\\t{c3.accel['units']}\")\n",
    "\n",
    "        t, s = proc.TransferFunction((c3,c7), per=(0.02, 0.6, 100), damping=[0.0001]).tf()\n",
    "        T = t[max(s)==s]\n",
    "        periods.append(T)\n",
    "        date = c3.get(\"date\",None)\n",
    "        year = datetime.fromisoformat(date).year if date else \"NA\"\n",
    "        res.append({\n",
    "                \"PGA\": abs(max(c3.accel.data,key=abs))/980.7,\n",
    "                \"Year\": year,\n",
    "                \"Peak\": periods[-1],\n",
    "                \"File\": i.name\n",
    "        })\n",
    "        d = {\n",
    "            \"name\": str(year) + f\" ({res[-1]['PGA']:5.2}g)\",\n",
    "            \"line\": {\"color\":[\"#003262\"]},#, \"#808080\"][float(T) < 0.1]},\n",
    "            \"type\": \"scatter\",\n",
    "            \"mode\": \"lines\",\n",
    "            \"x\": t,\n",
    "            \"y\": s,\n",
    "            **make_hover_data(res[-1], len(t))\n",
    "        }\n",
    "        data.append(d)\n",
    "    except Exception as e:\n",
    "        print(f\"\\tError: {e}\")\n"
   ]
  },
  {
   "cell_type": "code",
   "execution_count": 12,
   "id": "1686014b-2857-4d67-a1af-984a0b3245a6",
   "metadata": {},
   "outputs": [],
   "source": [
    "import pandas as pd\n",
    "import numpy as np\n",
    "\n",
    "pd.DataFrame(periods).describe()\n",
    "with open(DIR/f\"{config['dataset']}-table-{'-'.join(config['ch'])}.html\", \"w+\") as f:\n",
    "    f.write(pd.DataFrame(periods).describe().to_html())"
   ]
  },
  {
   "cell_type": "code",
   "execution_count": 13,
   "id": "07db1607-a1cb-4c4e-948f-0315070225b3",
   "metadata": {},
   "outputs": [],
   "source": [
    "max_accel = abs(max((r[\"PGA\"] for r in res), key=abs))\n",
    "min_accel = abs(min((r[\"PGA\"] for r in res), key=abs))\n",
    "for d,r in zip(data, res):\n",
    "    d[\"line\"] = {\n",
    "        \"color\": \"rgba(0, 50, 98,{})\".format(\n",
    "            0.1+(r[\"PGA\"]-min_accel)/(max_accel-min_accel)*0.9\n",
    "        )\n",
    "    }"
   ]
  },
  {
   "cell_type": "code",
   "execution_count": null,
   "id": "5b21af80-82c4-48c8-be0a-4cfff8aeade8",
   "metadata": {},
   "outputs": [],
   "source": [
    "import plotly.io as pio\n",
    "pio.renderers.default='iframe'\n",
    "import plotly.offline as pyo\n",
    "import plotly.graph_objs as go\n",
    "# Set notebook mode to work in offline\n",
    "\n",
    "pyo.init_notebook_mode()\n",
    "\n",
    "fig = go.Figure(dict(\n",
    "    data = data,\n",
    "    layout = go.Layout(),\n",
    "))\n",
    "fig.update_layout(\n",
    "    title=f\"{config['dataset']} {config['direction']} History\".title()+f\" (Ch. {' vs. '.join(config['ch'])})\",\n",
    "    xaxis_title=\"Period (sec.)\",\n",
    "    yaxis_title=\"Sa(out)/Sa(in)\",\n",
    "    # legend_title=\"Legend Title\",\n",
    "    # font=dict(\n",
    "    #     family=\"Courier New, monospace\",\n",
    "    #     size=18,\n",
    "    #     color=\"RebeccaPurple\"\n",
    "    # )\n",
    ")\n",
    "fig.show()\n",
    "    \n",
    "# with open(DIR/f\"{config['dataset']}-plot-{'-'.join(config['ch'])}.html\", \"w+\") as f:\n",
    "#     f.write(pio.to_html(fig))\n"
   ]
  },
  {
   "cell_type": "code",
   "execution_count": null,
   "id": "6d88f04a-7c24-4ea2-b26a-ac6a2e11e2e7",
   "metadata": {},
   "outputs": [],
   "source": [
    "period = np.stack([\n",
    "    d[\"x\"][max(d[\"y\"])==d[\"y\"]] for d in data\n",
    "])\n",
    "pd.DataFrame(period).describe()"
   ]
  },
  {
   "cell_type": "code",
   "execution_count": null,
   "id": "e0945875-cf3f-400b-9049-3ef144877e7f",
   "metadata": {},
   "outputs": [],
   "source": []
  }
 ],
 "metadata": {
  "kernelspec": {
   "display_name": "Python (elle)",
   "language": "python",
   "name": "elle"
  },
  "language_info": {
   "codemirror_mode": {
    "name": "ipython",
    "version": 3
   },
   "file_extension": ".py",
   "mimetype": "text/x-python",
   "name": "python",
   "nbconvert_exporter": "python",
   "pygments_lexer": "ipython3",
   "version": "3.8.12"
  }
 },
 "nbformat": 4,
 "nbformat_minor": 5
}
