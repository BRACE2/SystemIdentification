{
 "cells": [
  {
   "cell_type": "code",
   "execution_count": 1,
   "id": "ff805e39-0a88-4e4f-90fe-75f5e3208289",
   "metadata": {},
   "outputs": [],
   "source": [
    "import quakeio\n",
    "import ssid\n",
    "\n",
    "from pathlib import Path\n",
    "import numpy as np"
   ]
  },
  {
   "cell_type": "code",
   "execution_count": 2,
   "id": "3f886615-f4a7-4415-aa43-212e1ec5bcca",
   "metadata": {},
   "outputs": [],
   "source": [
    "# config = dict(\n",
    "#     # Transverse\n",
    "#     bridge  = \"meloland\",\n",
    "#     inputs  = [2],\n",
    "#     outputs = [7]\n",
    "# )\n",
    "config = dict(\n",
    "    # Transverse\n",
    "    bridge  = \"painter\",\n",
    "    # inputs  = [3],\n",
    "    # outputs = [7]    \n",
    "    inputs  = [17, 3, 20],\n",
    "    outputs = [ 9, 7 , 4]\n",
    ")\n",
    "# config = dict(# Case 2\n",
    "#     bridge  = \"hayward\",\n",
    "#     inputs  = [3,6,17],\n",
    "#     outputs = [12, 14, 19]\n",
    "# )\n",
    "# config = dict( # Case 5\n",
    "#     bridge  = \"hayward\",\n",
    "#     inputs  = [1],\n",
    "#     outputs = [16]\n",
    "# )\n",
    "# config = dict(\n",
    "#     inputs  = \"2 7 25\".split(),\n",
    "#     outputs = \"18 13 15 23 20\".split()\n",
    "# )"
   ]
  },
  {
   "cell_type": "code",
   "execution_count": 4,
   "id": "2374b59b-7239-4190-b64c-26b2615d7fbb",
   "metadata": {
    "tags": []
   },
   "outputs": [
    {
     "name": "stdout",
     "output_type": "stream",
     "text": [
      "failed CapeMendocino_21Nov1986_CE89324P.zip\n"
     ]
    },
    {
     "name": "stderr",
     "output_type": "stream",
     "text": [
      "100%|█████████████████████████████████████▉| 11900/11901 [00:37<00:00, 317.10it/s]\n"
     ]
    },
    {
     "name": "stdout",
     "output_type": "stream",
     "text": [
      "\n",
      "Spectral quantities:\n",
      "       T      𝑓       ζ\n",
      "    0.1345  7.437   0.0009389\n",
      "    0.2406  4.156   0.006028\n",
      "    0.1779  5.622   0.02676\n",
      "    0.1779  5.622   0.02676\n",
      "    0.2848  3.512   -6.675e-05\n",
      "    0.2848  3.512   -6.675e-05\n",
      "    0.2242  4.46    0.01347\n",
      "    0.2242  4.46    0.01347\n",
      "\n",
      "failed RioDell82_CE89324P.zip\n"
     ]
    },
    {
     "name": "stderr",
     "output_type": "stream",
     "text": [
      "100%|██████████████████████████████████████▉| 1000/1001 [00:00<00:00, 1369.63it/s]\n"
     ]
    },
    {
     "name": "stdout",
     "output_type": "stream",
     "text": [
      "\n",
      "Spectral quantities:\n",
      "       T      𝑓       ζ\n",
      "    0.1769  5.655   -0.00439\n",
      "    0.2272  4.402   0.05576\n",
      "    0.1963  5.095   -0.002193\n",
      "    0.1963  5.095   -0.002193\n",
      "    0.2701  3.703   -0.005505\n",
      "    0.2701  3.703   -0.005505\n",
      "    0.2538  3.941   -0.009027\n",
      "    0.2538  3.941   -0.009027\n",
      "\n"
     ]
    },
    {
     "name": "stderr",
     "output_type": "stream",
     "text": [
      "100%|███████████████████████████████████████▉| 8067/8068 [00:17<00:00, 469.82it/s]\n"
     ]
    },
    {
     "name": "stdout",
     "output_type": "stream",
     "text": [
      "\n",
      "Spectral quantities:\n",
      "       T      𝑓       ζ\n",
      "    0.1827  5.473   0.03533\n",
      "    0.2704  3.698   0.01837\n",
      "    0.1949  5.13    0.01672\n",
      "    0.1949  5.13    0.01672\n",
      "    0.2328  4.295   -0.01213\n",
      "    0.2328  4.295   -0.01213\n",
      "    0.2584  3.869   0.08433\n",
      "    0.2584  3.869   0.08433\n",
      "\n"
     ]
    },
    {
     "name": "stderr",
     "output_type": "stream",
     "text": [
      "100%|███████████████████████████████████████▉| 6461/6462 [00:11<00:00, 559.00it/s]\n"
     ]
    },
    {
     "name": "stdout",
     "output_type": "stream",
     "text": [
      "\n",
      "Spectral quantities:\n",
      "       T      𝑓       ζ\n",
      "    0.1622  6.163   -0.02026\n",
      "    0.2056  4.865   0.01334\n",
      "    0.2441  4.097   -0.004798\n",
      "    0.2441  4.097   -0.004798\n",
      "    0.2315  4.32    0.04823\n",
      "    0.2315  4.32    0.04823\n",
      "    0.1954  5.119   0.02411\n",
      "    0.1954  5.119   0.02411\n",
      "\n"
     ]
    },
    {
     "name": "stderr",
     "output_type": "stream",
     "text": [
      "100%|█████████████████████████████████████▉| 11900/11901 [00:24<00:00, 488.00it/s]\n"
     ]
    },
    {
     "name": "stdout",
     "output_type": "stream",
     "text": [
      "\n",
      "Spectral quantities:\n",
      "       T      𝑓       ζ\n",
      "    0.1511  6.618   0.0126\n",
      "    0.1727  5.79    0.01806\n",
      "    0.3081  3.246   0.09359\n",
      "    0.3081  3.246   0.09359\n",
      "    0.2541  3.936   0.01616\n",
      "    0.2541  3.936   0.01616\n",
      "    0.2097  4.77    -0.003885\n",
      "    0.2097  4.77    -0.003885\n",
      "\n"
     ]
    },
    {
     "name": "stderr",
     "output_type": "stream",
     "text": [
      "100%|███████████████████████████████████████▉| 8411/8412 [00:10<00:00, 795.77it/s]\n"
     ]
    },
    {
     "name": "stdout",
     "output_type": "stream",
     "text": [
      "\n",
      "Spectral quantities:\n",
      "       T      𝑓       ζ\n",
      "    0.3151  3.173   0.002027\n",
      "    0.1914  5.224   -0.00216\n",
      "    0.2699  3.705   -0.004649\n",
      "    0.2699  3.705   -0.004649\n",
      "    0.2398  4.17    0.03268\n",
      "    0.2398  4.17    0.03268\n",
      "    0.1784  5.605   -0.02256\n",
      "    0.1784  5.605   -0.02256\n",
      "\n",
      "failed PetroliaAftershock1_26Apr1992_CE89324P.zip\n",
      "failed Eureka_24Aug1983_CE89324P.zip\n",
      "failed Trinidad-Offshore_08Nov1980_CE89324p.zip\n"
     ]
    },
    {
     "name": "stderr",
     "output_type": "stream",
     "text": [
      "100%|███████████████████████████████████████▉| 6783/6784 [00:12<00:00, 540.51it/s]\n"
     ]
    },
    {
     "name": "stdout",
     "output_type": "stream",
     "text": [
      "\n",
      "Spectral quantities:\n",
      "       T      𝑓       ζ\n",
      "    0.1646  6.074   0.012 \n",
      "    0.2101  4.76    0.002339\n",
      "    0.2787  3.588   0.002149\n",
      "    0.2787  3.588   0.002149\n",
      "    0.2426  4.122   -0.02192\n",
      "    0.2426  4.122   -0.02192\n",
      "    0.1829  5.467   -0.01773\n",
      "    0.1829  5.467   -0.01773\n",
      "\n"
     ]
    },
    {
     "name": "stderr",
     "output_type": "stream",
     "text": [
      "100%|███████████████████████████████████████▉| 6902/6903 [00:14<00:00, 483.64it/s]\n"
     ]
    },
    {
     "name": "stdout",
     "output_type": "stream",
     "text": [
      "\n",
      "Spectral quantities:\n",
      "       T      𝑓       ζ\n",
      "    0.169   5.918   -0.004839\n",
      "    0.2332  4.288   -0.006736\n",
      "    0.2968  3.369   0.01484\n",
      "    0.2968  3.369   0.01484\n",
      "    0.2008  4.981   -0.007994\n",
      "    0.2008  4.981   -0.007994\n",
      "    0.2273  4.4     0.03559\n",
      "    0.2273  4.4     0.03559\n",
      "\n"
     ]
    },
    {
     "name": "stderr",
     "output_type": "stream",
     "text": [
      "100%|██████████████████████████████████████▉| 1000/1001 [00:00<00:00, 1771.79it/s]\n"
     ]
    },
    {
     "name": "stdout",
     "output_type": "stream",
     "text": [
      "\n",
      "Spectral quantities:\n",
      "       T      𝑓       ζ\n",
      "    0.189   5.292   0.008289\n",
      "    0.2719  3.677   0.05258\n",
      "    0.3056  3.272   0.0189\n",
      "    0.3056  3.272   0.0189\n",
      "    0.2192  4.561   0.03004\n",
      "    0.2192  4.561   0.03004\n",
      "    0.2327  4.298   0.02575\n",
      "    0.2327  4.298   0.02575\n",
      "\n"
     ]
    },
    {
     "name": "stderr",
     "output_type": "stream",
     "text": [
      "100%|█████████████████████████████████████▉| 11900/11901 [00:38<00:00, 312.90it/s]"
     ]
    },
    {
     "name": "stdout",
     "output_type": "stream",
     "text": [
      "\n",
      "Spectral quantities:\n",
      "       T      𝑓       ζ\n",
      "    0.1419  7.049   0.02113\n",
      "    0.2145  4.661   -0.004392\n",
      "    0.1804  5.542   -0.006475\n",
      "    0.1804  5.542   -0.006475\n",
      "    0.2633  3.798   0.05451\n",
      "    0.2633  3.798   0.05451\n",
      "    0.2392  4.181   0.003569\n",
      "    0.2392  4.181   0.003569\n",
      "\n"
     ]
    },
    {
     "name": "stderr",
     "output_type": "stream",
     "text": [
      "\n"
     ]
    }
   ],
   "source": [
    "for file in (Path(\"/mnt/d/CSMIP\")/config[\"bridge\"]).glob(\"*.zip\"):\n",
    "    event = quakeio.read(file)\n",
    "    try:\n",
    "        inputs = [\n",
    "            event.match(\"l\", station_channel=str(chan)).accel\n",
    "            for chan in config[\"inputs\"]\n",
    "        ]\n",
    "        outpts = [\n",
    "            event.match(\"l\", station_channel=str(chan)).accel\n",
    "            for chan in config[\"outputs\"]\n",
    "        ]\n",
    "        dt = inputs[0][\"time_step\"]\n",
    "        A,B,C,D = ssid.srim(inputs, outpts, dt=dt, mro=100,orm=10,verbose=True)\n",
    "    except:\n",
    "        print(f\"failed {file.name}\")\n",
    "        \n",
    "    else:\n",
    "        \n",
    "        freqdmpSRIM, modeshapeSRIM, *_ = ssid.ComposeModes(dt, A, B, C, D)\n",
    "        # Add validation\n",
    "        print(ssid.IdentifiedSystem(dt, A, B, C, D))\n",
    "        # print(file, np.real(1/freqdmpSRIM[:,0]))"
   ]
  },
  {
   "cell_type": "code",
   "execution_count": null,
   "id": "05325fd7-c62f-4621-bb6b-4ad1e093f13a",
   "metadata": {},
   "outputs": [],
   "source": []
  }
 ],
 "metadata": {
  "kernelspec": {
   "display_name": "Python 3 (ipykernel)",
   "language": "python",
   "name": "python3"
  },
  "language_info": {
   "codemirror_mode": {
    "name": "ipython",
    "version": 3
   },
   "file_extension": ".py",
   "mimetype": "text/x-python",
   "name": "python",
   "nbconvert_exporter": "python",
   "pygments_lexer": "ipython3",
   "version": "3.10.4"
  }
 },
 "nbformat": 4,
 "nbformat_minor": 5
}
