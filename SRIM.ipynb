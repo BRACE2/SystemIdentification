{
 "cells": [
  {
   "cell_type": "code",
   "execution_count": 4,
   "id": "ff805e39-0a88-4e4f-90fe-75f5e3208289",
   "metadata": {},
   "outputs": [],
   "source": [
    "import quakeio\n",
    "import ssid\n",
    "\n",
    "from pathlib import Path\n",
    "import numpy as np"
   ]
  },
  {
   "cell_type": "code",
   "execution_count": 5,
   "id": "3f886615-f4a7-4415-aa43-212e1ec5bcca",
   "metadata": {},
   "outputs": [],
   "source": [
    "config = dict(\n",
    "    # Transverse\n",
    "    bridge  = \"meloland\",\n",
    "    inputs  = [2],\n",
    "    outputs = [7]\n",
    ")\n",
    "config = dict(\n",
    "    # Transverse\n",
    "    bridge  = \"painter\",\n",
    "    # inputs  = [3],\n",
    "    # outputs = [7]    \n",
    "    inputs  = [17, 3, 20],\n",
    "    outputs = [ 9, 7 , 4]\n",
    ")\n",
    "# config = dict(# Case 2\n",
    "#     bridge  = \"hayward\",\n",
    "#     inputs  = [3,6,17],\n",
    "#     outputs = [12, 14, 19]\n",
    "# )\n",
    "# config = dict( # Case 5\n",
    "#     bridge  = \"hayward\",\n",
    "#     inputs  = [1],\n",
    "#     outputs = [16]\n",
    "# )\n",
    "# config = dict(\n",
    "#     inputs  = \"2 7 25\".split(),\n",
    "#     outputs = \"18 13 15 23 20\".split()\n",
    "# )"
   ]
  },
  {
   "cell_type": "code",
   "execution_count": 6,
   "id": "2374b59b-7239-4190-b64c-26b2615d7fbb",
   "metadata": {
    "tags": []
   },
   "outputs": [
    {
     "name": "stderr",
     "output_type": "stream",
     "text": [
      "100%|█████████████████████████████████████████████████▉| 6536/6537 [00:06<00:00, 1056.70it/s]"
     ]
    },
    {
     "name": "stdout",
     "output_type": "stream",
     "text": [
      "\n",
      "Spectral quantities:\n",
      "       T      𝑓       ζ\n",
      "    0.02167  46.14   0.01884\n",
      "    0.02971  33.65   0.03833\n",
      "    0.03768  26.54   0.003726\n",
      "    0.03768  26.54   0.003726\n",
      "    0.03507  28.52   0.02776\n",
      "    0.03507  28.52   0.02776\n",
      "    0.02515  39.76   -0.01556\n",
      "    0.02515  39.76   -0.01556\n",
      "\n"
     ]
    },
    {
     "name": "stderr",
     "output_type": "stream",
     "text": [
      "\n"
     ]
    }
   ],
   "source": [
    "for file in Path(config[\"bridge\"]).glob(\"Rio*.zip\"):\n",
    "    event = quakeio.read(file)\n",
    "    try:\n",
    "        inputs = [\n",
    "            event.match(\"l\", station_channel=str(chan)).accel\n",
    "            for chan in config[\"inputs\"]\n",
    "        ]\n",
    "        outpts = [\n",
    "            event.match(\"l\", station_channel=str(chan)).accel\n",
    "            for chan in config[\"outputs\"]\n",
    "        ]\n",
    "    except:\n",
    "        print(f\"failed {file.name}\")\n",
    "        \n",
    "    else:\n",
    "        dt = inputs[0][\"time_step\"]\n",
    "        A,B,C,D = ssid.srim(inputs, outpts, dt=dt, mro=25,orm=10,verbose=True)\n",
    "        \n",
    "        freqdmpSRIM, modeshapeSRIM, *_ = ssid.ComposeModes(dt, A, B, C, D)\n",
    "        # Add validation\n",
    "        print(ssid.IdentifiedSystem(dt, A, B, C, D))\n",
    "        # print(file, np.real(1/freqdmpSRIM[:,0]))"
   ]
  },
  {
   "cell_type": "code",
   "execution_count": null,
   "id": "05325fd7-c62f-4621-bb6b-4ad1e093f13a",
   "metadata": {},
   "outputs": [],
   "source": []
  }
 ],
 "metadata": {
  "kernelspec": {
   "display_name": "Python 3 (ipykernel)",
   "language": "python",
   "name": "python3"
  },
  "language_info": {
   "codemirror_mode": {
    "name": "ipython",
    "version": 3
   },
   "file_extension": ".py",
   "mimetype": "text/x-python",
   "name": "python",
   "nbconvert_exporter": "python",
   "pygments_lexer": "ipython3",
   "version": "3.10.4"
  }
 },
 "nbformat": 4,
 "nbformat_minor": 5
}
