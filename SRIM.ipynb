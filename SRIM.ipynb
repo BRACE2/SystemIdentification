{
 "cells": [
  {
   "cell_type": "code",
   "execution_count": 3,
   "id": "ff805e39-0a88-4e4f-90fe-75f5e3208289",
   "metadata": {},
   "outputs": [],
   "source": [
    "import quakeio\n",
    "import ssid\n",
    "\n",
    "from pathlib import Path\n",
    "import numpy as np"
   ]
  },
  {
   "cell_type": "code",
   "execution_count": 8,
   "id": "3f886615-f4a7-4415-aa43-212e1ec5bcca",
   "metadata": {},
   "outputs": [],
   "source": [
    "config = dict(\n",
    "    # Transverse\n",
    "    bridge  = \"meloland\",\n",
    "    inputs  = [2],\n",
    "    outputs = [7]\n",
    ")\n",
    "config = dict(\n",
    "    # Transverse\n",
    "    bridge  = \"painter\",\n",
    "    inputs  = [3],\n",
    "    outputs = [7]\n",
    ")\n",
    "# config = dict(# Case 2\n",
    "#     bridge  = \"hayward\",\n",
    "#     inputs  = [3,6,17],\n",
    "#     outputs = [12, 14, 19]\n",
    "# )\n",
    "# config = dict( # Case 5\n",
    "#     bridge  = \"hayward\",\n",
    "#     inputs  = [1],\n",
    "#     outputs = [16]\n",
    "# )\n",
    "# config = dict(\n",
    "#     inputs  = \"2 7 25\".split(),\n",
    "#     outputs = \"18 13 15 23 20\".split()\n",
    "# )"
   ]
  },
  {
   "cell_type": "code",
   "execution_count": 9,
   "id": "2374b59b-7239-4190-b64c-26b2615d7fbb",
   "metadata": {
    "tags": []
   },
   "outputs": [
    {
     "name": "stderr",
     "output_type": "stream",
     "text": [
      "100%|██████████████████████████████████████████████████████████████████████████████▉| 1071/1072 [00:00<00:00, 25112.64it/s]\n"
     ]
    },
    {
     "name": "stdout",
     "output_type": "stream",
     "text": [
      "\n",
      "Spectral quantities:\n",
      "       T      𝑓       ζ\n",
      "    0.1137  8.794   0.01082\n",
      "    0.1477  6.771   -0.004473\n",
      "    0.3353  2.982   -0.004748\n",
      "    0.3353  2.982   -0.004748\n",
      "    0.2506  3.991   -0.00261\n",
      "    0.2506  3.991   -0.00261\n",
      "    0.2154  4.642   0.01693\n",
      "    0.2154  4.642   0.01693\n",
      "\n"
     ]
    },
    {
     "name": "stderr",
     "output_type": "stream",
     "text": [
      "100%|█████████████████████████████████████████████████████████████████████████████▉| 11975/11976 [00:04<00:00, 2873.31it/s]\n"
     ]
    },
    {
     "name": "stdout",
     "output_type": "stream",
     "text": [
      "\n",
      "Spectral quantities:\n",
      "       T      𝑓       ζ\n",
      "    0.03403  29.39   0.00273\n",
      "    0.08149  12.27   0.02643\n",
      "    0.04975  20.1    0.008162\n",
      "    0.04975  20.1    0.008162\n",
      "    0.2434  4.108   -0.01703\n",
      "    0.2434  4.108   -0.01703\n",
      "    0.1584  6.314   0.02774\n",
      "    0.1584  6.314   0.02774\n",
      "\n",
      "failed RioDell82_CE89324P.zip\n"
     ]
    },
    {
     "name": "stderr",
     "output_type": "stream",
     "text": [
      "100%|██████████████████████████████████████████████████████████████████████████████▉| 1075/1076 [00:00<00:00, 26383.13it/s]\n"
     ]
    },
    {
     "name": "stdout",
     "output_type": "stream",
     "text": [
      "\n",
      "Spectral quantities:\n",
      "       T      𝑓       ζ\n",
      "    0.1293  7.733   0.02036\n",
      "    0.1546  6.47    0.01192\n",
      "    0.2559  3.908   -0.03698\n",
      "    0.2559  3.908   -0.03698\n",
      "    0.3004  3.329   0.08729\n",
      "    0.3004  3.329   0.08729\n",
      "    0.2069  4.833   0.02888\n",
      "    0.2069  4.833   0.02888\n",
      "\n"
     ]
    },
    {
     "name": "stderr",
     "output_type": "stream",
     "text": [
      "100%|███████████████████████████████████████████████████████████████████████████████▉| 8142/8143 [00:01<00:00, 4569.42it/s]\n"
     ]
    },
    {
     "name": "stdout",
     "output_type": "stream",
     "text": [
      "\n",
      "Spectral quantities:\n",
      "       T      𝑓       ζ\n",
      "    0.07141  14.0    0.003362\n",
      "    0.3034  3.296   0.1763\n",
      "    0.09973  10.03   0.08279\n",
      "    0.09973  10.03   0.08279\n",
      "    0.1417  7.056   0.01596\n",
      "    0.1417  7.056   0.01596\n",
      "    0.2498  4.004   -0.04729\n",
      "    0.2498  4.004   -0.04729\n",
      "\n"
     ]
    },
    {
     "name": "stderr",
     "output_type": "stream",
     "text": [
      "100%|███████████████████████████████████████████████████████████████████████████████▉| 6536/6537 [00:01<00:00, 5514.19it/s]\n"
     ]
    },
    {
     "name": "stdout",
     "output_type": "stream",
     "text": [
      "\n",
      "Spectral quantities:\n",
      "       T      𝑓       ζ\n",
      "    0.0671  14.9    0.02783\n",
      "    0.2372  4.216   0.1616\n",
      "    0.104   9.618   0.06151\n",
      "    0.104   9.618   0.06151\n",
      "    0.1522  6.568   0.02376\n",
      "    0.1522  6.568   0.02376\n",
      "    0.235   4.255   -0.03291\n",
      "    0.235   4.255   -0.03291\n",
      "\n"
     ]
    },
    {
     "name": "stderr",
     "output_type": "stream",
     "text": [
      "100%|█████████████████████████████████████████████████████████████████████████████▉| 11975/11976 [00:04<00:00, 2826.50it/s]\n"
     ]
    },
    {
     "name": "stdout",
     "output_type": "stream",
     "text": [
      "\n",
      "Spectral quantities:\n",
      "       T      𝑓       ζ\n",
      "    0.03341  29.94   -0.007361\n",
      "    0.1674  5.974   0.0478\n",
      "    0.04673  21.4    -0.01821\n",
      "    0.04673  21.4    -0.01821\n",
      "    0.07681  13.02   0.01099\n",
      "    0.07681  13.02   0.01099\n",
      "    0.2493  4.011   0.01315\n",
      "    0.2493  4.011   0.01315\n",
      "\n"
     ]
    },
    {
     "name": "stderr",
     "output_type": "stream",
     "text": [
      "100%|███████████████████████████████████████████████████████████████████████████████▉| 8486/8487 [00:02<00:00, 4233.20it/s]\n"
     ]
    },
    {
     "name": "stdout",
     "output_type": "stream",
     "text": [
      "\n",
      "Spectral quantities:\n",
      "       T      𝑓       ζ\n",
      "    0.07115  14.05   0.02054\n",
      "    0.1404  7.124   0.04676\n",
      "    0.09672  10.34   0.03224\n",
      "    0.09672  10.34   0.03224\n",
      "    0.2541  3.935   0.04772\n",
      "    0.2541  3.935   0.04772\n",
      "    0.2502  3.997   0.05461\n",
      "    0.2502  3.997   0.05461\n",
      "\n"
     ]
    },
    {
     "name": "stderr",
     "output_type": "stream",
     "text": [
      "100%|██████████████████████████████████████████████████████████████████████████████▉| 2976/2977 [00:00<00:00, 11904.90it/s]\n"
     ]
    },
    {
     "name": "stdout",
     "output_type": "stream",
     "text": [
      "\n",
      "Spectral quantities:\n",
      "       T      𝑓       ζ\n",
      "    0.1331  7.511   -0.005882\n",
      "    0.2682  3.729   0.008139\n",
      "    0.1823  5.486   0.05018\n",
      "    0.1823  5.486   0.05018\n",
      "    0.5112  1.956   0.08627\n",
      "    0.5112  1.956   0.08627\n",
      "    0.3863  2.589   0.04464\n",
      "    0.3863  2.589   0.04464\n",
      "\n",
      "failed Eureka_24Aug1983_CE89324P.zip\n",
      "failed Trinidad-Offshore_08Nov1980_CE89324p.zip\n"
     ]
    },
    {
     "name": "stderr",
     "output_type": "stream",
     "text": [
      "100%|███████████████████████████████████████████████████████████████████████████████▉| 6858/6859 [00:01<00:00, 5572.39it/s]\n"
     ]
    },
    {
     "name": "stdout",
     "output_type": "stream",
     "text": [
      "\n",
      "Spectral quantities:\n",
      "       T      𝑓       ζ\n",
      "    0.07269  13.76   0.0268\n",
      "    0.2198  4.549   0.1583\n",
      "    0.09911  10.09   0.05765\n",
      "    0.09911  10.09   0.05765\n",
      "    0.1486  6.729   0.03716\n",
      "    0.1486  6.729   0.03716\n",
      "    0.2306  4.336   -0.04327\n",
      "    0.2306  4.336   -0.04327\n",
      "\n"
     ]
    },
    {
     "name": "stderr",
     "output_type": "stream",
     "text": [
      "100%|███████████████████████████████████████████████████████████████████████████████▉| 6977/6978 [00:01<00:00, 5558.46it/s]\n"
     ]
    },
    {
     "name": "stdout",
     "output_type": "stream",
     "text": [
      "\n",
      "Spectral quantities:\n",
      "       T      𝑓       ζ\n",
      "    0.07334  13.64   0.01396\n",
      "    0.1561  6.408   0.01587\n",
      "    0.1101  9.084   0.02665\n",
      "    0.1101  9.084   0.02665\n",
      "    0.2284  4.379   -0.01152\n",
      "    0.2284  4.379   -0.01152\n",
      "    0.3724  2.686   0.09848\n",
      "    0.3724  2.686   0.09848\n",
      "\n"
     ]
    },
    {
     "name": "stderr",
     "output_type": "stream",
     "text": [
      "100%|██████████████████████████████████████████████████████████████████████████████▉| 1075/1076 [00:00<00:00, 24274.03it/s]\n"
     ]
    },
    {
     "name": "stdout",
     "output_type": "stream",
     "text": [
      "\n",
      "Spectral quantities:\n",
      "       T      𝑓       ζ\n",
      "    0.1222  8.185   0.05992\n",
      "    0.1539  6.497   0.02644\n",
      "    0.3441  2.906   0.0437\n",
      "    0.3441  2.906   0.0437\n",
      "    0.2687  3.722   -0.02745\n",
      "    0.2687  3.722   -0.02745\n",
      "    0.2175  4.599   0.02505\n",
      "    0.2175  4.599   0.02505\n",
      "\n"
     ]
    },
    {
     "name": "stderr",
     "output_type": "stream",
     "text": [
      "100%|█████████████████████████████████████████████████████████████████████████████▉| 11975/11976 [00:04<00:00, 2621.03it/s]\n"
     ]
    },
    {
     "name": "stdout",
     "output_type": "stream",
     "text": [
      "\n",
      "Spectral quantities:\n",
      "       T      𝑓       ζ\n",
      "    0.03599  27.79   0.008886\n",
      "    0.1869  5.351   0.05972\n",
      "    0.05136  19.47   0.02976\n",
      "    0.05136  19.47   0.02976\n",
      "    0.08688  11.51   0.04556\n",
      "    0.08688  11.51   0.04556\n",
      "    0.2463  4.06    -0.0149\n",
      "    0.2463  4.06    -0.0149\n",
      "\n"
     ]
    }
   ],
   "source": [
    "for file in Path(config[\"bridge\"]).glob(\"*.zip\"):\n",
    "    event = quakeio.read(file)\n",
    "    try:\n",
    "        inputs = [\n",
    "            event.match(\"l\", station_channel=str(chan)).accel\n",
    "            for chan in config[\"inputs\"]\n",
    "        ]\n",
    "        outpts = [\n",
    "            event.match(\"l\", station_channel=str(chan)).accel\n",
    "            for chan in config[\"outputs\"]\n",
    "        ]\n",
    "    except:\n",
    "        print(f\"failed {file.name}\")\n",
    "        \n",
    "    else:\n",
    "        dt = inputs[0][\"time_step\"]\n",
    "        A,B,C,D = ssid.srim(inputs, outpts, dt=dt, mro=25,orm=10,verbose=True)\n",
    "        \n",
    "        freqdmpSRIM, modeshapeSRIM, *_ = ssid.ComposeModes(dt, A, B, C, D)\n",
    "        # Add validation\n",
    "        print(ssid.IdentifiedSystem(dt, A, B, C, D))\n",
    "        # print(file, np.real(1/freqdmpSRIM[:,0]))"
   ]
  },
  {
   "cell_type": "code",
   "execution_count": null,
   "id": "05325fd7-c62f-4621-bb6b-4ad1e093f13a",
   "metadata": {},
   "outputs": [],
   "source": []
  }
 ],
 "metadata": {
  "kernelspec": {
   "display_name": "Python (elle)",
   "language": "python",
   "name": "elle"
  },
  "language_info": {
   "codemirror_mode": {
    "name": "ipython",
    "version": 3
   },
   "file_extension": ".py",
   "mimetype": "text/x-python",
   "name": "python",
   "nbconvert_exporter": "python",
   "pygments_lexer": "ipython3",
   "version": "3.8.12"
  }
 },
 "nbformat": 4,
 "nbformat_minor": 5
}
